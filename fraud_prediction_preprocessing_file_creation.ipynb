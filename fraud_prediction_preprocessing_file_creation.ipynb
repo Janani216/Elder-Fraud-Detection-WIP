{
  "nbformat": 4,
  "nbformat_minor": 0,
  "metadata": {
    "colab": {
      "name": "fraud prediction preprocessing.ipynb",
      "provenance": [],
      "collapsed_sections": []
    },
    "kernelspec": {
      "name": "python3",
      "display_name": "Python 3"
    },
    "language_info": {
      "name": "python"
    }
  },
  "cells": [
    {
      "cell_type": "code",
      "metadata": {
        "id": "oiVtVUm2lW3_"
      },
      "source": [
        "import pandas as pd\n",
        "import numpy as np\n",
        "from sklearn import preprocessing\n",
        "from sklearn.preprocessing import OneHotEncoder\n",
        "import os,shutil\n",
        "import matplotlib.pyplot as plt\n",
        "from sklearn.feature_selection import SelectKBest, chi2\n",
        "\n",
        "file_path = '/content'\n",
        "if os.path.isdir(file_path+'/data'):\n",
        "  shutil.rmtree(file_path+'/data')\n",
        "os.makedirs(file_path+'/data')\n",
        "file_path = file_path+'/data'"
      ],
      "execution_count": 55,
      "outputs": []
    },
    {
      "cell_type": "code",
      "metadata": {
        "id": "mAkgcDLzl72s"
      },
      "source": [
        "df = pd.read_csv('/content/train dataset.csv')\n",
        "\n",
        "x_columns = list(df.columns)\n",
        "y_column= 'FRAUD_NONFRAUD'\n",
        "x_columns.remove(y_column)\n",
        "\n",
        "timestamp_attributes = ['PWD_UPDT_TS', 'PH_NUM_UPDT_TS', 'CUST_SINCE_DT', 'TRAN_DT', 'TRAN_TS', 'ACTVY_DT']\n",
        "nominal_attributes = [\n",
        "                      'CARR_NAME',\n",
        "                      'RGN_NAME',\n",
        "                      'STATE_PRVNC_TXT',\n",
        "                      'ALERT_TRGR_CD',\n",
        "                      'DVC_TYPE_TXT',\n",
        "                      'AUTHC_PRIM_TYPE_CD',\n",
        "                      'AUTHC_SCNDRY_STAT_TXT',\n",
        "                      'CUST_STATE',\n",
        "                      'ACTN_CD',\n",
        "                      'ACTN_INTNL_TXT',\n",
        "                      'TRAN_TYPE_CD',\n",
        "                      'FRAUD_NONFRAUD']\n",
        "numeric_attributes = ['TRAN_AMT', 'ACCT_PRE_TRAN_AVAIL_BAL', 'CUST_AGE', 'OPEN_ACCT_CT', 'WF_dvc_age']\n",
        "redundant_attributes = ['ACTVY_DT', 'TRAN_DT', 'TRAN_TYPE_CD', 'ACTN_INTNL_TXT', 'ACTN_CD']"
      ],
      "execution_count": 56,
      "outputs": []
    },
    {
      "cell_type": "code",
      "metadata": {
        "id": "4cwzUwqb9cgj"
      },
      "source": [
        "# Remove negative values from WF_dvc_age column\n",
        "negIndices = df[ df['WF_dvc_age'] < 0 ].index\n",
        "df.drop(negIndices , inplace=True)"
      ],
      "execution_count": 57,
      "outputs": []
    },
    {
      "cell_type": "code",
      "metadata": {
        "id": "WUkI1lyA8YVi"
      },
      "source": [
        "# Drop timestamp attributes\n",
        "drop_timestamp = df.drop(timestamp_attributes, axis = 'columns')\n",
        "drop_timestamp.to_csv(file_path+'/drop_timestamp.csv', index=False)\n",
        "\n",
        "# Retain timestamp attributes but remove redundant and useless attributes\n",
        "retain_timestamp = df.copy()\n",
        "retain_timestamp = retain_timestamp.drop(redundant_attributes, axis = 'columns')\n",
        "\n",
        "#Convert timestamp columns from string to datetime type\n",
        "retain_timestamp['TRAN_TS'] = pd.to_datetime(retain_timestamp['TRAN_TS'] )\n",
        "retain_timestamp['PWD_UPDT_TS'] = pd.to_datetime(retain_timestamp['PWD_UPDT_TS'] , errors=\"coerce\" )\n",
        "retain_timestamp['PH_NUM_UPDT_TS'] = pd.to_datetime(retain_timestamp['PH_NUM_UPDT_TS'], errors=\"coerce\" )\n",
        "retain_timestamp['CUST_SINCE_DT'] = pd.to_datetime(retain_timestamp['CUST_SINCE_DT'] )\n",
        "# Fill missing and invalid phone and password update timestamps with account creation timestamp\n",
        "retain_timestamp.PWD_UPDT_TS.fillna(retain_timestamp.CUST_SINCE_DT, inplace=True)\n",
        "retain_timestamp.PH_NUM_UPDT_TS.fillna(retain_timestamp.CUST_SINCE_DT, inplace=True)\n",
        "\n",
        "# Create new columns for timestamp attributes\n",
        "retain_timestamp['PWD_UPDT_DAYS'] = (retain_timestamp.TRAN_TS-retain_timestamp.PWD_UPDT_TS).dt.days\n",
        "retain_timestamp['PH_NUM_UPDT_DAYS'] = (retain_timestamp.TRAN_TS-retain_timestamp.PH_NUM_UPDT_TS).dt.days\n",
        "retain_timestamp['CUST_SINCE_DAYS'] = (retain_timestamp.TRAN_TS-retain_timestamp.CUST_SINCE_DT).dt.days\n",
        "\n",
        "negIndices = retain_timestamp[ retain_timestamp['PWD_UPDT_DAYS'] < 0 ].index\n",
        "retain_timestamp.drop(negIndices , inplace=True)\n",
        "\n",
        "negIndices = retain_timestamp[ retain_timestamp['PH_NUM_UPDT_DAYS'] < 0 ].index\n",
        "retain_timestamp.drop(negIndices , inplace=True)\n",
        "\n",
        "negIndices = retain_timestamp[ retain_timestamp['CUST_SINCE_DAYS'] < 0 ].index\n",
        "retain_timestamp.drop(negIndices , inplace=True)\n",
        "\n",
        "retain_timestamp = retain_timestamp.drop(['TRAN_TS','PWD_UPDT_TS', 'PH_NUM_UPDT_TS', 'CUST_SINCE_DT'], axis = 'columns')\n",
        "retain_timestamp.to_csv(file_path+'/retain_timestamp.csv', index=False)"
      ],
      "execution_count": 58,
      "outputs": []
    },
    {
      "cell_type": "code",
      "metadata": {
        "id": "H7rE7Ncr7zxa"
      },
      "source": [
        "for filename in os.listdir(file_path):\n",
        "  # remove rows with NaN\n",
        "  df = pd.read_csv(file_path + '/' + filename)\n",
        "  df.dropna().to_csv(file_path + '/remove_nan-' + filename, index=False)\n",
        "\n",
        "  # replace NaN with mode\n",
        "  df = pd.read_csv(file_path + '/' + filename)\n",
        "  for column in nominal_attributes:\n",
        "    if column in df.columns:\n",
        "      mean_value=(df[column].mode())[0]\n",
        "      df.fillna(value=mean_value, inplace=True)\n",
        "  df.to_csv(file_path + '/nan_with_mode-' + filename, index=False)\n",
        "  os.remove(file_path + '/' + filename)\n"
      ],
      "execution_count": 59,
      "outputs": []
    },
    {
      "cell_type": "code",
      "metadata": {
        "id": "4S-OsnL1qkk4"
      },
      "source": [
        "# One hot encode nominal attributes\n",
        "for filename in os.listdir(file_path):\n",
        "  _df = pd.read_csv(file_path + '/' + filename)\n",
        "  for column in nominal_attributes:\n",
        "    if column in _df.columns:\n",
        "      top_values = _df[column].value_counts().sort_values(ascending=False)\n",
        "      # Encode only the values that occur at least 100 times in the dataset\n",
        "      top_values = list(top_values[top_values>100].keys())\n",
        "\n",
        "      encoding = pd.get_dummies(_df[column], prefix=column)\n",
        "      _df = _df.drop(column, axis = 'columns')\n",
        "      top_values = [column+'_'+x for x in top_values]\n",
        "      _df = _df.join(encoding[top_values])\n",
        "  _df = _df.drop(['FRAUD_NONFRAUD_Non-Fraud'], axis = 'columns')\n",
        "  _df.to_csv(file_path + '/' + filename, index=False)"
      ],
      "execution_count": 60,
      "outputs": []
    },
    {
      "cell_type": "code",
      "metadata": {
        "id": "GEjFyhjpmrlt"
      },
      "source": [
        "# Standardize and normalize numerical attributes\n",
        "for filename in os.listdir(file_path):\n",
        "  _df = pd.read_csv(file_path + '/' + filename)\n",
        "  _df_normalize = _df.copy()\n",
        "  _df_standardize = _df.copy()\n",
        "  _df_normalize[numeric_attributes] = preprocessing.normalize(_df_normalize[numeric_attributes])\n",
        "  _df_standardize[numeric_attributes] = preprocessing.normalize(_df_standardize[numeric_attributes])\n",
        "  _df_normalize.to_csv(file_path + '/normalized-' + filename, index=False)\n",
        "  _df_standardize.to_csv(file_path + '/standardized-' + filename, index=False)\n",
        "  os.remove(file_path + '/' + filename)"
      ],
      "execution_count": 61,
      "outputs": []
    },
    {
      "cell_type": "code",
      "metadata": {
        "id": "AFr5svBG7jTo"
      },
      "source": [
        "import seaborn as sns\n",
        "for filename in os.listdir(file_path):\n",
        "  _df = pd.read_csv(file_path + '/' + filename)\n",
        "  x_columns = list(_df.columns)\n",
        "  y_column= 'FRAUD_NONFRAUD_Fraud'\n",
        "  x_columns.remove(y_column)\n",
        "  selector = SelectKBest(chi2, k=50)\n",
        "  _df_new = selector.fit_transform(_df[x_columns], _df[y_column])\n",
        "  new_features = np.array(x_columns)[selector.get_support()]\n",
        "  _df[new_features].to_csv(file_path + '/' + filename, index=False)"
      ],
      "execution_count": 62,
      "outputs": []
    }
  ]
}