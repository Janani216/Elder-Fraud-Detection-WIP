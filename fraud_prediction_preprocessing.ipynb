{
  "nbformat": 4,
  "nbformat_minor": 0,
  "metadata": {
    "colab": {
      "name": "fraud prediction preprocessing.ipynb",
      "provenance": []
    },
    "kernelspec": {
      "name": "python3",
      "display_name": "Python 3"
    },
    "language_info": {
      "name": "python"
    }
  },
  "cells": [
    {
      "cell_type": "code",
      "metadata": {
        "id": "oiVtVUm2lW3_"
      },
      "source": [
        "import pandas as pd\n",
        "import numpy as np\n",
        "from sklearn import preprocessing\n",
        "from sklearn.preprocessing import OneHotEncoder\n",
        "df = pd.read_csv('/content/train dataset.csv')"
      ],
      "execution_count": 69,
      "outputs": []
    },
    {
      "cell_type": "code",
      "metadata": {
        "id": "mAkgcDLzl72s"
      },
      "source": [
        "x_columns = list(df.columns)\n",
        "y_column= 'FRAUD_NONFRAUD'\n",
        "x_columns.remove(y_column)\n",
        "\n",
        "timestamp_attributes = ['PWD_UPDT_TS', 'PH_NUM_UPDT_TS', 'CUST_SINCE_DT', 'TRAN_DT', 'TRAN_TS', 'ACTVY_DT']\n",
        "nominal_attributes = [\n",
        "                      'CARR_NAME',\n",
        "                      'RGN_NAME',\n",
        "                      'STATE_PRVNC_TXT',\n",
        "                      'ALERT_TRGR_CD',\n",
        "                      'DVC_TYPE_TXT',\n",
        "                      'AUTHC_PRIM_TYPE_CD',\n",
        "                      'AUTHC_SCNDRY_STAT_TXT',\n",
        "                      'CUST_STATE',\n",
        "                      'ACTN_CD',\n",
        "                      'ACTN_INTNL_TXT',\n",
        "                      'TRAN_TYPE_CD']\n",
        "numeric_attributes = ['TRAN_AMT', 'ACCT_PRE_TRAN_AVAIL_BAL', 'CUST_AGE', 'OPEN_ACCT_CT', 'WF_dvc_age']"
      ],
      "execution_count": 70,
      "outputs": []
    },
    {
      "cell_type": "code",
      "metadata": {
        "id": "WUkI1lyA8YVi"
      },
      "source": [
        "# Drop timestamp attributes\n",
        "df = df.drop(timestamp_attributes, axis = 'columns')\n",
        "dataframes = dict()"
      ],
      "execution_count": 71,
      "outputs": []
    },
    {
      "cell_type": "code",
      "metadata": {
        "id": "H7rE7Ncr7zxa"
      },
      "source": [
        "# remove rows with NaN\n",
        "dataframes['remove_nan'] = df.copy()\n",
        "dataframes['remove_nan'] = dataframes['remove_nan'].dropna()\n",
        "\n",
        "# replace NaN with mode\n",
        "dataframes['nan_with_mode'] = df.copy()\n",
        "for column in nominal_attributes:\n",
        "  mean_value=dataframes['nan_with_mode'][column].mode()\n",
        "  dataframes['nan_with_mode'][column].fillna(value=mean_value, inplace=True)"
      ],
      "execution_count": 72,
      "outputs": []
    },
    {
      "cell_type": "code",
      "metadata": {
        "id": "4S-OsnL1qkk4"
      },
      "source": [
        "# One hot encode nominal attributes\n",
        "for dataframe_type in ['remove_nan', 'nan_with_mode']:\n",
        "  _df = dataframes[dataframe_type]\n",
        "  for column in nominal_attributes:\n",
        "    encoding = pd.get_dummies(_df[column], prefix=column)\n",
        "    _df = _df.drop(column, axis = 'columns')\n",
        "    _df = _df.join(encoding)\n",
        "  dataframes[dataframe_type] = _df"
      ],
      "execution_count": 73,
      "outputs": []
    },
    {
      "cell_type": "code",
      "metadata": {
        "id": "GEjFyhjpmrlt"
      },
      "source": [
        "# Standardize and normalize numerical attributes\n",
        "for dataframe_type in ['remove_nan', 'nan_with_mode']:\n",
        "  _df_normalize = dataframes[dataframe_type]\n",
        "  _df_standardize = dataframes[dataframe_type]\n",
        "  _df_normalize[numeric_attributes] = preprocessing.normalize(_df_normalize[numeric_attributes])\n",
        "  _df_standardize[numeric_attributes] = preprocessing.normalize(_df_standardize[numeric_attributes])\n",
        "  dataframes[dataframe_type] = dict()\n",
        "  dataframes[dataframe_type]['normalized'] = _df_normalize\n",
        "  dataframes[dataframe_type]['standardized'] = _df_standardize\n"
      ],
      "execution_count": 74,
      "outputs": []
    }
  ]
}